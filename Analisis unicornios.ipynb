{
 "cells": [
  {
   "cell_type": "code",
   "execution_count": 1,
   "id": "794a18f5",
   "metadata": {},
   "outputs": [],
   "source": [
    "import pandas as pd\n",
    "import numpy as np\n",
    "import matplotlib.pyplot as plt\n",
    "import seaborn as sn"
   ]
  },
  {
   "cell_type": "code",
   "execution_count": 23,
   "id": "6817cf26",
   "metadata": {},
   "outputs": [
    {
     "data": {
      "text/html": [
       "<div>\n",
       "<style scoped>\n",
       "    .dataframe tbody tr th:only-of-type {\n",
       "        vertical-align: middle;\n",
       "    }\n",
       "\n",
       "    .dataframe tbody tr th {\n",
       "        vertical-align: top;\n",
       "    }\n",
       "\n",
       "    .dataframe thead th {\n",
       "        text-align: right;\n",
       "    }\n",
       "</style>\n",
       "<table border=\"1\" class=\"dataframe\">\n",
       "  <thead>\n",
       "    <tr style=\"text-align: right;\">\n",
       "      <th></th>\n",
       "      <th>Company</th>\n",
       "      <th>Valuation(US$ billions)</th>\n",
       "      <th>Valuation date</th>\n",
       "      <th>Industry</th>\n",
       "      <th>Country/countries</th>\n",
       "      <th>Founder(s)</th>\n",
       "    </tr>\n",
       "  </thead>\n",
       "  <tbody>\n",
       "    <tr>\n",
       "      <th>0</th>\n",
       "      <td>ByteDance</td>\n",
       "      <td>400</td>\n",
       "      <td>April 2021[12]</td>\n",
       "      <td>Internet</td>\n",
       "      <td>China</td>\n",
       "      <td>Zhang Yiming,  Liang Rubo</td>\n",
       "    </tr>\n",
       "    <tr>\n",
       "      <th>1</th>\n",
       "      <td>Shein</td>\n",
       "      <td>100</td>\n",
       "      <td>April 2022[13]</td>\n",
       "      <td>E-commerce</td>\n",
       "      <td>China</td>\n",
       "      <td>Chris Xu</td>\n",
       "    </tr>\n",
       "    <tr>\n",
       "      <th>2</th>\n",
       "      <td>SpaceX</td>\n",
       "      <td>100</td>\n",
       "      <td>October 2021[14]</td>\n",
       "      <td>Aerospace</td>\n",
       "      <td>US</td>\n",
       "      <td>Elon Musk</td>\n",
       "    </tr>\n",
       "    <tr>\n",
       "      <th>3</th>\n",
       "      <td>Stripe</td>\n",
       "      <td>95</td>\n",
       "      <td>March 2021[15]</td>\n",
       "      <td>Financial services</td>\n",
       "      <td>US /  Ireland</td>\n",
       "      <td>Patrick and John Collison</td>\n",
       "    </tr>\n",
       "    <tr>\n",
       "      <th>4</th>\n",
       "      <td>Klarna</td>\n",
       "      <td>45.6</td>\n",
       "      <td>June 2021[16]</td>\n",
       "      <td>Financial technology</td>\n",
       "      <td>Sweden</td>\n",
       "      <td>Sebastian Siemiatkowski, Niklas Adalberth, Vic...</td>\n",
       "    </tr>\n",
       "    <tr>\n",
       "      <th>...</th>\n",
       "      <td>...</td>\n",
       "      <td>...</td>\n",
       "      <td>...</td>\n",
       "      <td>...</td>\n",
       "      <td>...</td>\n",
       "      <td>...</td>\n",
       "    </tr>\n",
       "    <tr>\n",
       "      <th>630</th>\n",
       "      <td>Zuoyebang</td>\n",
       "      <td>1+</td>\n",
       "      <td>July 2018[129]</td>\n",
       "      <td>NaN</td>\n",
       "      <td>China</td>\n",
       "      <td>NaN</td>\n",
       "    </tr>\n",
       "    <tr>\n",
       "      <th>631</th>\n",
       "      <td>Einride</td>\n",
       "      <td>1.44</td>\n",
       "      <td>April 2022[574]</td>\n",
       "      <td>Technology</td>\n",
       "      <td>Sweden</td>\n",
       "      <td>NaN</td>\n",
       "    </tr>\n",
       "    <tr>\n",
       "      <th>632</th>\n",
       "      <td>Voi</td>\n",
       "      <td>1+</td>\n",
       "      <td>April 2022[575]</td>\n",
       "      <td>NaN</td>\n",
       "      <td>Sweden</td>\n",
       "      <td>NaN</td>\n",
       "    </tr>\n",
       "    <tr>\n",
       "      <th>633</th>\n",
       "      <td>Bitkub</td>\n",
       "      <td>1+</td>\n",
       "      <td>November 2021[576][577]</td>\n",
       "      <td>Financial technology</td>\n",
       "      <td>Thailand</td>\n",
       "      <td>NaN</td>\n",
       "    </tr>\n",
       "    <tr>\n",
       "      <th>634</th>\n",
       "      <td>Nagad</td>\n",
       "      <td>1+</td>\n",
       "      <td>April 2022[578]</td>\n",
       "      <td>Financial services</td>\n",
       "      <td>Bangladesh</td>\n",
       "      <td>Rahel Ahmed</td>\n",
       "    </tr>\n",
       "  </tbody>\n",
       "</table>\n",
       "<p>635 rows × 6 columns</p>\n",
       "</div>"
      ],
      "text/plain": [
       "       Company Valuation(US$ billions)           Valuation date  \\\n",
       "0    ByteDance                     400           April 2021[12]   \n",
       "1        Shein                     100           April 2022[13]   \n",
       "2       SpaceX                     100         October 2021[14]   \n",
       "3       Stripe                      95           March 2021[15]   \n",
       "4       Klarna                    45.6            June 2021[16]   \n",
       "..         ...                     ...                      ...   \n",
       "630  Zuoyebang                      1+           July 2018[129]   \n",
       "631    Einride                    1.44          April 2022[574]   \n",
       "632        Voi                      1+          April 2022[575]   \n",
       "633     Bitkub                      1+  November 2021[576][577]   \n",
       "634      Nagad                      1+          April 2022[578]   \n",
       "\n",
       "                 Industry Country/countries  \\\n",
       "0                Internet             China   \n",
       "1              E-commerce             China   \n",
       "2               Aerospace                US   \n",
       "3      Financial services     US /  Ireland   \n",
       "4    Financial technology            Sweden   \n",
       "..                    ...               ...   \n",
       "630                   NaN             China   \n",
       "631            Technology            Sweden   \n",
       "632                   NaN            Sweden   \n",
       "633  Financial technology          Thailand   \n",
       "634    Financial services        Bangladesh   \n",
       "\n",
       "                                            Founder(s)  \n",
       "0                            Zhang Yiming,  Liang Rubo  \n",
       "1                                             Chris Xu  \n",
       "2                                            Elon Musk  \n",
       "3                            Patrick and John Collison  \n",
       "4    Sebastian Siemiatkowski, Niklas Adalberth, Vic...  \n",
       "..                                                 ...  \n",
       "630                                                NaN  \n",
       "631                                                NaN  \n",
       "632                                                NaN  \n",
       "633                                                NaN  \n",
       "634                                        Rahel Ahmed  \n",
       "\n",
       "[635 rows x 6 columns]"
      ]
     },
     "execution_count": 23,
     "metadata": {},
     "output_type": "execute_result"
    }
   ],
   "source": [
    "data = pd.read_csv('unicornios.csv')"
   ]
  },
  {
   "cell_type": "code",
   "execution_count": 3,
   "id": "8ee15b17",
   "metadata": {},
   "outputs": [
    {
     "data": {
      "text/plain": [
       "(635, 6)"
      ]
     },
     "execution_count": 3,
     "metadata": {},
     "output_type": "execute_result"
    }
   ],
   "source": [
    "data.shape"
   ]
  },
  {
   "cell_type": "code",
   "execution_count": 4,
   "id": "d1f22667",
   "metadata": {
    "scrolled": true
   },
   "outputs": [
    {
     "name": "stdout",
     "output_type": "stream",
     "text": [
      "<class 'pandas.core.frame.DataFrame'>\n",
      "RangeIndex: 635 entries, 0 to 634\n",
      "Data columns (total 6 columns):\n",
      " #   Column                   Non-Null Count  Dtype \n",
      "---  ------                   --------------  ----- \n",
      " 0   Company                  635 non-null    object\n",
      " 1   Valuation(US$ billions)  635 non-null    object\n",
      " 2   Valuation date           635 non-null    object\n",
      " 3   Industry                 567 non-null    object\n",
      " 4   Country/countries        635 non-null    object\n",
      " 5   Founder(s)               120 non-null    object\n",
      "dtypes: object(6)\n",
      "memory usage: 29.9+ KB\n"
     ]
    }
   ],
   "source": [
    "data.info()"
   ]
  },
  {
   "cell_type": "code",
   "execution_count": 61,
   "id": "0cabf2b2",
   "metadata": {},
   "outputs": [
    {
     "data": {
      "text/html": [
       "<div>\n",
       "<style scoped>\n",
       "    .dataframe tbody tr th:only-of-type {\n",
       "        vertical-align: middle;\n",
       "    }\n",
       "\n",
       "    .dataframe tbody tr th {\n",
       "        vertical-align: top;\n",
       "    }\n",
       "\n",
       "    .dataframe thead th {\n",
       "        text-align: right;\n",
       "    }\n",
       "</style>\n",
       "<table border=\"1\" class=\"dataframe\">\n",
       "  <thead>\n",
       "    <tr style=\"text-align: right;\">\n",
       "      <th></th>\n",
       "      <th>Company</th>\n",
       "      <th>Valuation(US$ billions)</th>\n",
       "      <th>Valuation date</th>\n",
       "      <th>Industry</th>\n",
       "      <th>Country/countries</th>\n",
       "      <th>Founder(s)</th>\n",
       "    </tr>\n",
       "  </thead>\n",
       "  <tbody>\n",
       "    <tr>\n",
       "      <th>187</th>\n",
       "      <td>TiendaNube</td>\n",
       "      <td>3.10</td>\n",
       "      <td>August 2021[196]</td>\n",
       "      <td>E-commerce</td>\n",
       "      <td>Argentina</td>\n",
       "      <td>NaN</td>\n",
       "    </tr>\n",
       "    <tr>\n",
       "      <th>249</th>\n",
       "      <td>Ualá</td>\n",
       "      <td>2.45</td>\n",
       "      <td>November 2019[citation needed]</td>\n",
       "      <td>Personal finance</td>\n",
       "      <td>Argentina</td>\n",
       "      <td>NaN</td>\n",
       "    </tr>\n",
       "  </tbody>\n",
       "</table>\n",
       "</div>"
      ],
      "text/plain": [
       "        Company  Valuation(US$ billions)                  Valuation date  \\\n",
       "187  TiendaNube                     3.10                August 2021[196]   \n",
       "249        Ualá                     2.45  November 2019[citation needed]   \n",
       "\n",
       "             Industry Country/countries Founder(s)  \n",
       "187        E-commerce         Argentina        NaN  \n",
       "249  Personal finance         Argentina        NaN  "
      ]
     },
     "execution_count": 61,
     "metadata": {},
     "output_type": "execute_result"
    }
   ],
   "source": [
    "data_arg=data[data['Country/countries']=='Argentina']\n",
    "data_arg"
   ]
  },
  {
   "cell_type": "code",
   "execution_count": 5,
   "id": "a9160c7e",
   "metadata": {},
   "outputs": [
    {
     "data": {
      "text/plain": [
       "1+      157\n",
       "2        31\n",
       "3        27\n",
       "1.2      27\n",
       "1.4      19\n",
       "       ... \n",
       "8.3       1\n",
       "9         1\n",
       "2.39      1\n",
       "1.04      1\n",
       "21        1\n",
       "Name: Valuation(US$ billions), Length: 149, dtype: int64"
      ]
     },
     "execution_count": 5,
     "metadata": {},
     "output_type": "execute_result"
    }
   ],
   "source": [
    "data['Valuation(US$ billions)'].value_counts()"
   ]
  },
  {
   "cell_type": "code",
   "execution_count": 37,
   "id": "5c76cb94",
   "metadata": {},
   "outputs": [],
   "source": [
    "for i in range(len(data['Valuation(US$ billions)'])):\n",
    "    #print('1', data['Valuation(US$ billions)'][i])\n",
    "    if '+' in data['Valuation(US$ billions)'][i]:\n",
    "        data['Valuation(US$ billions)'][i]=data['Valuation(US$ billions)'][i].replace('+','')\n",
    "        \n",
    "data['Valuation(US$ billions)']=round(data['Valuation(US$ billions)'].astype('float32'), 2)"
   ]
  },
  {
   "cell_type": "code",
   "execution_count": 38,
   "id": "8da978af",
   "metadata": {
    "scrolled": true
   },
   "outputs": [
    {
     "data": {
      "text/plain": [
       "1.00     158\n",
       "2.00      37\n",
       "3.00      28\n",
       "1.20      27\n",
       "1.50      20\n",
       "        ... \n",
       "13.30      1\n",
       "13.00      1\n",
       "1.93       1\n",
       "16.50      1\n",
       "8.10       1\n",
       "Name: Valuation(US$ billions), Length: 143, dtype: int64"
      ]
     },
     "execution_count": 38,
     "metadata": {},
     "output_type": "execute_result"
    }
   ],
   "source": [
    "data['Valuation(US$ billions)'].value_counts()"
   ]
  },
  {
   "cell_type": "code",
   "execution_count": 46,
   "id": "cd3c8139",
   "metadata": {},
   "outputs": [
    {
     "data": {
      "text/plain": [
       "<AxesSubplot:xlabel='Company'>"
      ]
     },
     "execution_count": 46,
     "metadata": {},
     "output_type": "execute_result"
    },
    {
     "data": {
      "image/png": "[encoded data removed]",
      "text/plain": [
       "<Figure size 432x288 with 1 Axes>"
      ]
     },
     "metadata": {
      "needs_background": "light"
     },
     "output_type": "display_data"
    }
   ],
   "source": [
    "data[['Company','Valuation(US$ billions)']].sort_values(by='Valuation(US$ billions)',ascending= False).head(20).plot.bar(x= 'Company')"
   ]
  },
  {
   "cell_type": "code",
   "execution_count": 21,
   "id": "17b37ad7",
   "metadata": {
    "scrolled": true
   },
   "outputs": [
    {
     "data": {
      "text/html": [
       "<div>\n",
       "<style scoped>\n",
       "    .dataframe tbody tr th:only-of-type {\n",
       "        vertical-align: middle;\n",
       "    }\n",
       "\n",
       "    .dataframe tbody tr th {\n",
       "        vertical-align: top;\n",
       "    }\n",
       "\n",
       "    .dataframe thead th {\n",
       "        text-align: right;\n",
       "    }\n",
       "</style>\n",
       "<table border=\"1\" class=\"dataframe\">\n",
       "  <thead>\n",
       "    <tr style=\"text-align: right;\">\n",
       "      <th></th>\n",
       "      <th>Valuation(US$ billions)</th>\n",
       "    </tr>\n",
       "    <tr>\n",
       "      <th>Industry</th>\n",
       "      <th></th>\n",
       "    </tr>\n",
       "  </thead>\n",
       "  <tbody>\n",
       "    <tr>\n",
       "      <th>Internet</th>\n",
       "      <td>435.000000</td>\n",
       "    </tr>\n",
       "    <tr>\n",
       "      <th>Financial technology</th>\n",
       "      <td>285.670013</td>\n",
       "    </tr>\n",
       "    <tr>\n",
       "      <th>E-commerce</th>\n",
       "      <td>229.199997</td>\n",
       "    </tr>\n",
       "    <tr>\n",
       "      <th>Software</th>\n",
       "      <td>194.710007</td>\n",
       "    </tr>\n",
       "    <tr>\n",
       "      <th>Financial services</th>\n",
       "      <td>160.949997</td>\n",
       "    </tr>\n",
       "    <tr>\n",
       "      <th>...</th>\n",
       "      <td>...</td>\n",
       "    </tr>\n",
       "    <tr>\n",
       "      <th>Meal kit</th>\n",
       "      <td>1.000000</td>\n",
       "    </tr>\n",
       "    <tr>\n",
       "      <th>Media</th>\n",
       "      <td>1.000000</td>\n",
       "    </tr>\n",
       "    <tr>\n",
       "      <th>Electronics</th>\n",
       "      <td>1.000000</td>\n",
       "    </tr>\n",
       "    <tr>\n",
       "      <th>Nanotechnology</th>\n",
       "      <td>1.000000</td>\n",
       "    </tr>\n",
       "    <tr>\n",
       "      <th>Accounting software</th>\n",
       "      <td>1.000000</td>\n",
       "    </tr>\n",
       "  </tbody>\n",
       "</table>\n",
       "<p>163 rows × 1 columns</p>\n",
       "</div>"
      ],
      "text/plain": [
       "                      Valuation(US$ billions)\n",
       "Industry                                     \n",
       "Internet                           435.000000\n",
       "Financial technology               285.670013\n",
       "E-commerce                         229.199997\n",
       "Software                           194.710007\n",
       "Financial services                 160.949997\n",
       "...                                       ...\n",
       "Meal kit                             1.000000\n",
       "Media                                1.000000\n",
       "Electronics                          1.000000\n",
       "Nanotechnology                       1.000000\n",
       "Accounting software                  1.000000\n",
       "\n",
       "[163 rows x 1 columns]"
      ]
     },
     "execution_count": 21,
     "metadata": {},
     "output_type": "execute_result"
    }
   ],
   "source": [
    "data2 = round(data.groupby('Industry').sum()[['Valuation(US$ billions)']], 2)\n",
    "data2.sort_values(by='Valuation(US$ billions)', ascending= False)"
   ]
  },
  {
   "cell_type": "code",
   "execution_count": 60,
   "id": "5a415392",
   "metadata": {},
   "outputs": [
    {
     "data": {
      "text/plain": [
       "Text(0, 0.5, 'Billions US$')"
      ]
     },
     "execution_count": 60,
     "metadata": {},
     "output_type": "execute_result"
    },
    {
     "data": {
      "image/png": "[encoded data removed]",
      "text/plain": [
       "<Figure size 432x288 with 1 Axes>"
      ]
     },
     "metadata": {
      "needs_background": "light"
     },
     "output_type": "display_data"
    }
   ],
   "source": [
    "graph = data2.sort_values(by='Valuation(US$ billions)', ascending= False).head(20).plot(kind='bar')\n",
    "graph.set_ylabel('Billions US$')"
   ]
  },
  {
   "cell_type": "code",
   "execution_count": 22,
   "id": "cb6b83d4",
   "metadata": {},
   "outputs": [
    {
     "data": {
      "text/plain": [
       "<AxesSubplot:>"
      ]
     },
     "execution_count": 22,
     "metadata": {},
     "output_type": "execute_result"
    },
    {
     "data": {
      "image/png": "[encoded data removed]",
      "text/plain": [
       "<Figure size 432x288 with 1 Axes>"
      ]
     },
     "metadata": {
      "needs_background": "light"
     },
     "output_type": "display_data"
    }
   ],
   "source": [
    "data2.plot(kind='box', vert=False, figsize=(6,4))"
   ]
  },
  {
   "cell_type": "code",
   "execution_count": 54,
   "id": "e5d544e3",
   "metadata": {},
   "outputs": [
    {
     "data": {
      "text/plain": [
       "Text(0, 0.5, 'Number of companies')"
      ]
     },
     "execution_count": 54,
     "metadata": {},
     "output_type": "execute_result"
    },
    {
     "data": {
      "image/png": "[encoded data removed]",
      "text/plain": [
       "<Figure size 720x288 with 1 Axes>"
      ]
     },
     "metadata": {
      "needs_background": "light"
     },
     "output_type": "display_data"
    }
   ],
   "source": [
    "data3 = data.groupby('Country/countries').size()\n",
    "\n",
    "ax = data3.sort_values(ascending=False).head(20).plot(kind='bar', figsize=(10,4))\n",
    "ax.set_ylabel('Number of companies')"
   ]
  },
  {
   "cell_type": "code",
   "execution_count": null,
   "id": "e3630653",
   "metadata": {},
   "outputs": [],
   "source": []
  }
 ],
 "metadata": {
  "kernelspec": {
   "display_name": "Python 3",
   "language": "python",
   "name": "python3"
  },
  "language_info": {
   "codemirror_mode": {
    "name": "ipython",
    "version": 3
   },
   "file_extension": ".py",
   "mimetype": "text/x-python",
   "name": "python",
   "nbconvert_exporter": "python",
   "pygments_lexer": "ipython3",
   "version": "3.8.8"
  }
 },
 "nbformat": 4,
 "nbformat_minor": 5
}
